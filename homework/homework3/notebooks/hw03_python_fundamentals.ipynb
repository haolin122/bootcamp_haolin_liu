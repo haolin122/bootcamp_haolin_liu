{
 "cells": [
  {
   "cell_type": "code",
   "execution_count": 9,
   "metadata": {},
   "outputs": [
    {
     "name": "stdout",
     "output_type": "stream",
     "text": [
      "Original array starts with: [1 2 3 4 5]\n",
      "Doubled array starts with: [ 2  4  6  8 10]\n",
      "Squared array starts with: [ 1  4  9 16 25]\n",
      "\n",
      "Speed Comparison\n",
      "Timing Python loop:\n",
      "41.2 ms ± 841 µs per loop (mean ± std. dev. of 7 runs, 10 loops each)\n",
      "\n",
      "Timing NumPy vectorized function:\n",
      "113 µs ± 1.43 µs per loop (mean ± std. dev. of 7 runs, 10,000 loops each)\n"
     ]
    }
   ],
   "source": [
    "import numpy as np\n",
    "import time\n",
    "\n",
    "my_array = np.arange(1, 1000001)\n",
    "\n",
    "doubled_array = my_array * 2\n",
    "squared_array = my_array ** 2\n",
    "\n",
    "print(f\"Original array starts with: {my_array[:5]}\")\n",
    "print(f\"Doubled array starts with: {doubled_array[:5]}\")\n",
    "print(f\"Squared array starts with: {squared_array[:5]}\")\n",
    "print(\"\\nSpeed Comparison\")\n",
    "def loop_sum(arr):\n",
    "    total = 0\n",
    "    for x in arr:\n",
    "        total += x\n",
    "    return total\n",
    "def vectorized_sum(arr):\n",
    "    return np.sum(arr)\n",
    "\n",
    "print(\"Timing Python loop:\")\n",
    "%timeit loop_sum(my_array)\n",
    "\n",
    "print(\"\\nTiming NumPy vectorized function:\")\n",
    "%timeit vectorized_sum(my_array)"
   ]
  },
  {
   "cell_type": "code",
   "execution_count": 10,
   "metadata": {},
   "outputs": [
    {
     "name": "stdout",
     "output_type": "stream",
     "text": [
      "Data Info:\n",
      "<class 'pandas.core.frame.DataFrame'>\n",
      "RangeIndex: 10 entries, 0 to 9\n",
      "Data columns (total 3 columns):\n",
      " #   Column    Non-Null Count  Dtype \n",
      "---  ------    --------------  ----- \n",
      " 0   category  10 non-null     object\n",
      " 1   value     10 non-null     int64 \n",
      " 2   date      10 non-null     object\n",
      "dtypes: int64(1), object(2)\n",
      "memory usage: 372.0+ bytes\n",
      "\n",
      "First 5 Rows\n",
      "  category  value        date\n",
      "0        A     10  2025-08-01\n",
      "1        B     15  2025-08-02\n",
      "2        A     12  2025-08-03\n",
      "3        B     18  2025-08-04\n",
      "4        C     25  2025-08-05\n"
     ]
    }
   ],
   "source": [
    "import pandas as pd\n",
    "\n",
    "\n",
    "file_path = '../data/starter_data.csv'\n",
    "df = pd.read_csv(file_path)\n",
    "\n",
    "\n",
    "print(\"Data Info:\")\n",
    "df.info()\n",
    "\n",
    "print(\"\\nFirst 5 Rows\")\n",
    "print(df.head())"
   ]
  },
  {
   "cell_type": "code",
   "execution_count": 11,
   "metadata": {},
   "outputs": [
    {
     "name": "stdout",
     "output_type": "stream",
     "text": [
      "Descriptive Statistics\n",
      "           value\n",
      "count  10.000000\n",
      "mean   17.600000\n",
      "std     7.381659\n",
      "min    10.000000\n",
      "25%    12.250000\n",
      "50%    14.500000\n",
      "75%    23.250000\n",
      "max    30.000000\n",
      "\n",
      "Grouped Statistics (by category mean)\n",
      "              value\n",
      "category           \n",
      "A         11.500000\n",
      "B         15.666667\n",
      "C         27.666667\n"
     ]
    }
   ],
   "source": [
    "\n",
    "summary_stats = df.describe()\n",
    "print(\"Descriptive Statistics\")\n",
    "print(summary_stats)\n",
    "grouped_stats = df.groupby('category')[['value']].mean()\n",
    "print(\"\\nGrouped Statistics (by category mean)\")\n",
    "print(grouped_stats)"
   ]
  },
  {
   "cell_type": "code",
   "execution_count": 8,
   "metadata": {},
   "outputs": [
    {
     "name": "stdout",
     "output_type": "stream",
     "text": [
      "Summary saved to: ../data/processed/summary.csv\n"
     ]
    }
   ],
   "source": [
    "output_path = '../data/processed/summary.csv'\n",
    "grouped_stats.to_csv(output_path)\n",
    "\n",
    "print(f\"Summary saved to: {output_path}\")\n"
   ]
  }
 ],
 "metadata": {
  "kernelspec": {
   "display_name": "Python 3",
   "language": "python",
   "name": "python3"
  },
  "language_info": {
   "codemirror_mode": {
    "name": "ipython",
    "version": 3
   },
   "file_extension": ".py",
   "mimetype": "text/x-python",
   "name": "python",
   "nbconvert_exporter": "python",
   "pygments_lexer": "ipython3",
   "version": "3.11.3"
  }
 },
 "nbformat": 4,
 "nbformat_minor": 2
}
